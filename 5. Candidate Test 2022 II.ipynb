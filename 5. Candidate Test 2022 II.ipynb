{
 "cells": [
  {
   "cell_type": "markdown",
   "id": "278102b3",
   "metadata": {},
   "source": [
    "# Candidate Test 2022 Analysis Part 2\n",
    "\n",
    "This exercise focuses on the candidate tests from two television networks: DR and TV2. Data from both tests have been given on a scale of five responses (-2, -1, 0, 1, 2). Consider normalizing the data or performing similar scaling transformations as needed.\n",
    "\n",
    "---\n",
    "\n",
    "There are 6 datasets included in this exercise:\n",
    "\n",
    "- `alldata.xlsx`: Contains responses from both TV stations.\n",
    "- `drdata.xlsx`: Contains responses from DR.\n",
    "- `drq.xlsx`: Contains questions from DR.\n",
    "- `tv2data.xlsx`: Contains responses from TV2.\n",
    "- `tv2q.xlsx`: Contains questions from TV2.\n",
    "- `electeddata.xlsx`: Contains responses from both TV stations for candidates who were elected to the parliament. Note that 9 members are missing; 7 of them didn't take any of the tests. Additionally, some notable figures like Mette F. and Lars Løkke did not participate in any of the tests.\n",
    "\n",
    "---\n",
    "\n",
    "It's entirely up to you how you approach this data, but at a *minimum*, your analysis should include:\n",
    "\n",
    "- An analysis/description of which questions are most crucial concerning their placement on the axes.\n",
    "- Average positions of parties concerning each question, preferably with accompanying plots of each (or selected) question.\n",
    "- A clustering analysis where you attempt various cluster numbers, which would correspond to different parties. Discuss whether there is room for more clusters/parties or if a reduction is needed. Make sure you cover: **K-Means, Hierarchical clustering, and DBSCAN.**\n",
    "- An overview of the political landscape of the elected candidates, highlighting which members agree or disagree the most and which parties or party members have significant disagreements.\n",
    "- Feel free to explore further and remember that preprocessing, methodology, and evaluation metrics are not mentioned explicitly, but are implicitly assumed.\n",
    "\n",
    "---\n",
    "\n",
    "The following parties are represented:\n",
    "\n",
    "| Party letter | Party name | Party name (English) | Political position |\n",
    "| :-: | :-: | :-: | :-: |\n",
    "| A | Socialdemokratiet | Social Democrats | Centre-left |\n",
    "| V | Venstre | Danish Liberal Party | Centre-right |\n",
    "| M | Moderaterne | Moderates | Centre-right |\n",
    "| F | Socialistisk Folkeparti | Socialist People's Party | Left-wing |\n",
    "| D | Danmarksdemokraterne | Denmark Democrats | Right-wing |\n",
    "| I | Liberal Alliance | Liberal Alliance | Right-wing |\n",
    "| C | Konservative | Conservative People's Party | Right-wing |\n",
    "| Æ | Enhedslisten | Red-Green Alliance | Far-left |\n",
    "| B | Radikale Venstre | Social Liberal Party | Centre-left |\n",
    "| D | Nye Borgerlige | New Right | Far-right |\n",
    "| Z | Alternativet | The Alternative | Centre-left |\n",
    "| O | Dansk Folkeparti | Danish People's Party | Far-right |\n",
    "| G | Frie Grønne | Free Greens | Centre-left |\n",
    "| K | Kristendemokraterne | Christian Democrats | Centre-right |\n",
    "\n",
    "Below you can see the results and the colors chosen to represent the parties. Use these colors in your analysis above.\n",
    "\n",
    "![Alt text](image-1.png)\n",
    "\n",
    "\n",
    "Others have undertaken similar analyses. You can draw inspiration from the following (use Google tranlsate if your Danish is rusty):\n",
    "\n",
    "- [Analysis of where individual candidates stand relative to each other and their parties](https://v2022.dumdata.dk/)\n",
    "- [Candidate Test 2022 – A deep dive into the data](https://kwedel.github.io/kandidattest2022/)\n",
    "- [The Political Landscape 2019](https://kwedel.github.io/kandidattest2019/)\n",
    "\n"
   ]
  },
  {
   "cell_type": "markdown",
   "id": "691775c8",
   "metadata": {},
   "source": [
    "### Load all Data"
   ]
  },
  {
   "cell_type": "code",
   "execution_count": 10,
   "id": "a903798a",
   "metadata": {},
   "outputs": [],
   "source": [
    "import numpy as np\n",
    "import pandas as pd\n",
    "import matplotlib.pyplot as plt\n",
    "import seaborn as sns"
   ]
  },
  {
   "cell_type": "code",
   "execution_count": 11,
   "id": "a0402602",
   "metadata": {},
   "outputs": [],
   "source": [
    "# Import the reference data for parties\n",
    "party_information = pd.read_csv('partyInformation.csv', header=0)\n",
    "\n",
    "# Create a color key for parties based on the letter\n",
    "color_key = party_information[['parti', 'farve']].set_index('parti').to_dict()['farve']\n",
    "color_key_shorthand = party_information[['bogstav', 'farve']].set_index('bogstav').to_dict()['farve']\n",
    "# partyInformation"
   ]
  },
  {
   "cell_type": "code",
   "execution_count": 12,
   "id": "3aa1ecb8",
   "metadata": {},
   "outputs": [],
   "source": [
    "# Reading all the data for candidates and their responses\n",
    "data = pd.read_excel('alldata.xlsx', header=0)\n",
    "# data"
   ]
  },
  {
   "cell_type": "markdown",
   "id": "d6e4d352",
   "metadata": {},
   "source": [
    "## Data Cleanup\n",
    "The data cleanup undergoes the following steps:\n",
    "- Correction of party names to match the reference table, some parties have longer official names that are not in the reference table.\n",
    "    - Since most of the data already matches the reference table, we only need to correct the few that don't.\n",
    "- Verification of duplicate candidate names.\n",
    "- Removal of candidates where their age is set to 0.\n",
    "    - This is obviously nonsensical and likely a placeholder for missing data, so we remove these candidates for simplicity. \n"
   ]
  },
  {
   "cell_type": "code",
   "execution_count": 13,
   "id": "e61b10ec",
   "metadata": {},
   "outputs": [
    {
     "name": "stdout",
     "output_type": "stream",
     "text": [
      "No duplicate candidate names detected.\n"
     ]
    }
   ],
   "source": [
    "# Data Cleanup\n",
    "# Correct party names to match the reference table, as a function for reusability\n",
    "alternative_pary_names = {\n",
    "    'Frie Grønne, Danmarks Nye Venstrefløjsparti': 'Frie Grønne',\n",
    "    'Det Konservative Folkeparti': 'Konservative',\n",
    "}\n",
    "data['parti'] = data['parti'].replace(alternative_pary_names)\n",
    "\n",
    "# Verify duplicate candidates\n",
    "if data['navn'].duplicated().sum() > 0:\n",
    "    print(\"Duplicate candidate names detected.\")\n",
    "else:\n",
    "    print(\"No duplicate candidate names detected.\")\n",
    "\n",
    "data = data[data['alder'] > 0]"
   ]
  },
  {
   "cell_type": "code",
   "execution_count": 14,
   "id": "7d3ef44a",
   "metadata": {},
   "outputs": [],
   "source": [
    "# Extract info from every candidate and attach the party information for easy overview\n",
    "# Also detaches the questions from the candidate data for easier analysis of the candidates themselves\n",
    "candidateInfo = data.merge(party_information, on='parti', how='left')[['bogstav', 'navn', 'alder', 'storkreds', 'parti', 'holdning']]\n",
    "# candidateInfo"
   ]
  },
  {
   "cell_type": "code",
   "execution_count": 15,
   "id": "acbaeb16",
   "metadata": {},
   "outputs": [],
   "source": [
    "# To sort all future charts by party, we can create a plot order based on the letters assigned to each party, UFG is removed and added at the end for unaligned candidates to show up last\n",
    "plot_order = party_information['bogstav']\n",
    "plot_order = plot_order[plot_order != 'UFG']\n",
    "plot_order = plot_order.sort_values(ascending=True)\n",
    "plot_order = pd.concat([plot_order, pd.Series('UFG')], ignore_index=True)\n",
    "plot_order = plot_order.to_frame('bogstav').merge(party_information[['parti', 'bogstav']], on='bogstav', how='left')\n",
    "# plot_order\n",
    "\n",
    "alignment_order = {\n",
    "    'Far-left': -3,\n",
    "    'Left-wing': -2,\n",
    "    'Centre-left': -1,\n",
    "    'Non-Aligned': 0,\n",
    "    'Centre-right': 1,\n",
    "    'Right-wing': 2,\n",
    "    'Far-right': 3\n",
    "}"
   ]
  }
 ],
 "metadata": {
  "kernelspec": {
   "display_name": ".venv",
   "language": "python",
   "name": "python3"
  },
  "language_info": {
   "codemirror_mode": {
    "name": "ipython",
    "version": 3
   },
   "file_extension": ".py",
   "mimetype": "text/x-python",
   "name": "python",
   "nbconvert_exporter": "python",
   "pygments_lexer": "ipython3",
   "version": "3.12.6"
  }
 },
 "nbformat": 4,
 "nbformat_minor": 5
}
